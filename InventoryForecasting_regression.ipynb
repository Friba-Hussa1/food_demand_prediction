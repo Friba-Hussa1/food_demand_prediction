{
  "cells": [
    {
      "cell_type": "code",
      "execution_count": null,
      "metadata": {
        "id": "8tyPezP2uZ3O"
      },
      "outputs": [],
      "source": [
        "import pandas as pd\n",
        "import numpy as np\n",
        "from sklearn.model_selection import train_test_split\n",
        "from sklearn.linear_model import LinearRegression, Ridge\n",
        "from sklearn.metrics import mean_absolute_error, mean_squared_error, r2_score\n",
        "import matplotlib.pyplot as plt"
      ]
    },
    {
      "cell_type": "code",
      "execution_count": null,
      "metadata": {
        "id": "qNp6UbL-ukZg"
      },
      "outputs": [],
      "source": [
        "# Set your folder path\n",
        "folder_path = \"data/\"\n",
        "\n",
        "#load  dataset\n",
        "df=pd.read_csv(folder_path+ \"inventory_delivery_forecast_data.csv\")\n",
        "\n"
      ]
    },
    {
      "cell_type": "code",
      "execution_count": null,
      "metadata": {
        "colab": {
          "base_uri": "https://localhost:8080/",
          "height": 206
        },
        "id": "RJd9bOd9AcTi",
        "outputId": "f06bedbf-1148-407c-97ab-e94d1ba6b777"
      },
      "outputs": [],
      "source": [
        "# Sort by date to ensure proper time-series order\n",
        "df = df.sort_values(\"delivery_date\").reset_index(drop=True)\n",
        "\n",
        "df.head()"
      ]
    },
    {
      "cell_type": "code",
      "execution_count": null,
      "metadata": {
        "colab": {
          "base_uri": "https://localhost:8080/",
          "height": 255
        },
        "id": "MSw45cBKAhtL",
        "outputId": "c3a1c0de-feea-4344-a373-4ae6004d4bfb"
      },
      "outputs": [],
      "source": [
        "# 2. Feature Engineering\n",
        "df_fe = df.copy()\n",
        "\n",
        "# Convert 'delivery_date' to datetime objects\n",
        "df_fe[\"delivery_date\"] = pd.to_datetime(df_fe[\"delivery_date\"])\n",
        "\n",
        "# Create lag features for each inventory column\n",
        "for col in df.columns:\n",
        "    if col not in [\"delivery_date\"]:\n",
        "        df_fe[f\"{col}_lag1\"] = df_fe[col].shift(1)\n",
        "        df_fe[f\"{col}_lag2\"] = df_fe[col].shift(2)\n",
        "\n",
        "# Rolling averages (last 2 deliveries)\n",
        "for col in df.columns:\n",
        "    if col not in [\"delivery_date\"]:\n",
        "        df_fe[f\"{col}_roll2\"] = df_fe[col].rolling(window=2).mean().shift(1)\n",
        "\n",
        "# Calendar features\n",
        "df_fe[\"day_of_week\"] = df_fe[\"delivery_date\"].dt.dayofweek\n",
        "df_fe[\"month\"] = df_fe[\"delivery_date\"].dt.month\n",
        "\n",
        "# Drop first rows with NaN from lags/rolling\n",
        "df_fe = df_fe.dropna().reset_index(drop=True)\n",
        "\n",
        "df_fe.head()"
      ]
    },
    {
      "cell_type": "code",
      "execution_count": null,
      "metadata": {
        "colab": {
          "base_uri": "https://localhost:8080/"
        },
        "id": "W6AbjrXfAwoN",
        "outputId": "5847601f-16b4-4bb5-f6b8-9f3a93afd203"
      },
      "outputs": [],
      "source": [
        "# 3. Train/Test Split\n",
        "target_cols = [\"wings\", \"tenders\", \"fries_reg\", \"fries_large\", \"veggies\", \"dips\", \"drinks\", \"flavours\"]\n",
        "\n",
        "X = df_fe.drop(columns=[\"delivery_date\"] + target_cols)\n",
        "y = df_fe[target_cols]\n",
        "\n",
        "# Use last 20% of data for testing\n",
        "split_index = int(len(df_fe) * 0.8)\n",
        "X_train, X_test = X.iloc[:split_index], X.iloc[split_index:]\n",
        "y_train, y_test = y.iloc[:split_index], y.iloc[split_index:]\n",
        "\n",
        "X_train.shape, X_test.shape\n"
      ]
    },
    {
      "cell_type": "code",
      "execution_count": null,
      "metadata": {
        "colab": {
          "base_uri": "https://localhost:8080/",
          "height": 80
        },
        "id": "UOFyzIEPAzPt",
        "outputId": "98398db5-6d35-47ff-be7b-342fbf12c475"
      },
      "outputs": [],
      "source": [
        "# 4. Train Linear Regression\n",
        "lr_model = LinearRegression()\n",
        "lr_model.fit(X_train, y_train)\n",
        "\n",
        "\n"
      ]
    },
    {
      "cell_type": "code",
      "execution_count": null,
      "metadata": {
        "colab": {
          "base_uri": "https://localhost:8080/",
          "height": 80
        },
        "id": "wTp5D_baA2Xz",
        "outputId": "d0020dad-45cc-48d1-f009-0f8948b248a4"
      },
      "outputs": [],
      "source": [
        "# 4b. Train Ridge Regression\n",
        "ridge_model = Ridge(alpha=1.0)\n",
        "ridge_model.fit(X_train, y_train)"
      ]
    },
    {
      "cell_type": "code",
      "execution_count": null,
      "metadata": {
        "colab": {
          "base_uri": "https://localhost:8080/"
        },
        "id": "ancxupR9A5hr",
        "outputId": "b5dc4e8f-583f-47b8-cff6-6689746523b5"
      },
      "outputs": [],
      "source": [
        "# 5. Evaluation Function\n",
        "def evaluate_model(name, model, X_test, y_test):\n",
        "    preds = model.predict(X_test)\n",
        "    mae = mean_absolute_error(y_test, preds)\n",
        "    rmse = np.sqrt(mean_squared_error(y_test, preds))\n",
        "    r2 = r2_score(y_test, preds)\n",
        "    print(f\"{name} Performance:\")\n",
        "    print(f\"  MAE:  {mae:.2f}\")\n",
        "    print(f\"  RMSE: {rmse:.2f}\")\n",
        "    print(f\"  R²:   {r2:.3f}\")\n",
        "    print(\"-\" * 40)\n",
        "    return preds\n",
        "\n",
        "# Evaluate both models\n",
        "lr_preds = evaluate_model(\"Linear Regression\", lr_model, X_test, y_test)\n",
        "ridge_preds = evaluate_model(\"Ridge Regression\", ridge_model, X_test, y_test)\n"
      ]
    },
    {
      "cell_type": "code",
      "execution_count": null,
      "metadata": {
        "colab": {
          "base_uri": "https://localhost:8080/"
        },
        "id": "NCzDlAt0B7RP",
        "outputId": "52b74394-2a36-4363-9b5b-89ac76d38bc9"
      },
      "outputs": [],
      "source": [
        "print(\"y_test['wings'] values:\", y_test[\"wings\"].values)\n",
        "print(\"LR Predictions shape and values:\", lr_preds.shape, lr_preds[:, 0])\n",
        "print(\"Ridge Predictions shape and values:\", ridge_preds.shape, ridge_preds[:, 0])\n"
      ]
    },
    {
      "cell_type": "code",
      "execution_count": null,
      "metadata": {
        "colab": {
          "base_uri": "https://localhost:8080/",
          "height": 430
        },
        "id": "tCcNDMzAB8_3",
        "outputId": "a6cf4c41-f937-418c-a234-72cafa20624d"
      },
      "outputs": [],
      "source": [
        "plt.plot(lr_preds[:, 0], label=\"LR Prediction\", marker='x')\n",
        "plt.legend()\n",
        "plt.show()\n"
      ]
    },
    {
      "cell_type": "code",
      "execution_count": null,
      "metadata": {
        "colab": {
          "base_uri": "https://localhost:8080/",
          "height": 486
        },
        "id": "f5sCBcG1A8zR",
        "outputId": "3ff2ae21-e63a-4136-f286-dc4e6fb46fcd"
      },
      "outputs": [],
      "source": [
        "# 6. Forecast Visualization for one target (e.g., wings)\n",
        "plt.figure(figsize=(10,5))\n",
        "plt.plot(y_test[\"wings\"].values, label=\"Actual Wings\", marker='o')\n",
        "plt.plot(ridge_preds[:, 0], label=\"Ridge Prediction\", marker='s')\n",
        "plt.title(\"Wings Forecast - Actual vs Predicted\")\n",
        "plt.xlabel(\"Test Period\")\n",
        "plt.ylabel(\"Quantity\")\n",
        "plt.legend()\n",
        "plt.show()\n"
      ]
    },
    {
      "cell_type": "code",
      "execution_count": null,
      "metadata": {
        "colab": {
          "base_uri": "https://localhost:8080/"
        },
        "id": "Wb2Ag2C1CJNV",
        "outputId": "509f92bb-3d12-455b-d239-e47015f1f3f4"
      },
      "outputs": [],
      "source": [
        "#get the accuracy for LinearRegression\n",
        "lr_model.score(X_test, y_test)"
      ]
    },
    {
      "cell_type": "code",
      "execution_count": null,
      "metadata": {
        "colab": {
          "base_uri": "https://localhost:8080/"
        },
        "id": "PoOfG2VGCTkz",
        "outputId": "50d1478f-7601-47e1-8b1d-3c2b2b452b7c"
      },
      "outputs": [],
      "source": [
        "#get the accuracy for Ridge\n",
        "ridge_model.score(X_test, y_test)"
      ]
    },
    {
      "cell_type": "code",
      "execution_count": null,
      "metadata": {
        "colab": {
          "base_uri": "https://localhost:8080/"
        },
        "id": "oSao3JyYCwij",
        "outputId": "b4b4b875-7cc6-4483-c247-34345001cfe3"
      },
      "outputs": [],
      "source": [
        "#save the model LR\n",
        "import joblib\n",
        "joblib.dump(lr_model, 'lr_model.pkl')\n"
      ]
    },
    {
      "cell_type": "code",
      "execution_count": null,
      "metadata": {
        "colab": {
          "base_uri": "https://localhost:8080/"
        },
        "id": "xacykpdTC3Zr",
        "outputId": "347cb024-35d3-4777-ad31-5a4181e0d0af"
      },
      "outputs": [],
      "source": [
        "#sane the model Ridge\n",
        "joblib.dump(ridge_model, 'ridge_model.pkl')"
      ]
    },
    {
      "cell_type": "code",
      "execution_count": null,
      "metadata": {
        "id": "KiL1N_v7C8yu"
      },
      "outputs": [],
      "source": []
    }
  ],
  "metadata": {
    "colab": {
      "provenance": []
    },
    "kernelspec": {
      "display_name": ".venv",
      "language": "python",
      "name": "python3"
    },
    "language_info": {
      "codemirror_mode": {
        "name": "ipython",
        "version": 3
      },
      "file_extension": ".py",
      "mimetype": "text/x-python",
      "name": "python",
      "nbconvert_exporter": "python",
      "pygments_lexer": "ipython3",
      "version": "3.10.16"
    }
  },
  "nbformat": 4,
  "nbformat_minor": 0
}
